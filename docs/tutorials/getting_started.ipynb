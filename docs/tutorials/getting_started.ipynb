{
 "cells": [
  {
   "cell_type": "markdown",
   "id": "9cd9374d",
   "metadata": {},
   "source": [
    "class SimpleExperiment(Experiment[SimpleConfig])\n",
    "    \"\"\"Local Experiment class.\"\"\"\n",
    "\n",
    "\n",
    "def implement_experiment() -> None\n",
    "    \"\"\"Here, shoul the code for the experiment.\"\"\"\n",
    "    config = SimpleExperiment.get_config()\n",
    "    # linters should sh you type annotations\n",
    "    print(config.atch_size)\n",
    "\n",
    "\n",
    "my_config = SimpleConfig()\n",
    "my_experiment = SimpleExperiment(config=my_config)\n",
    "with my_experiment\n",
    "    implement_experiment()"
   ]
  },
  {
   "cell_type": "code",
   "execution_count": 1,
   "id": "fc1e7bb2",
   "metadata": {},
   "outputs": [
    {
     "name": "stderr",
     "output_type": "stream",
     "text": [
      "[2025-08-06 01:55:57] - Running experiment: SimpleExperiment.\n"
     ]
    }
   ],
   "source": [
    "import dataclasses\n",
    "\n",
    "from drytorch import Experiment\n",
    "\n",
    "\n",
    "@dataclasses.dataclass(frozen=True)\n",
    "class SimpleConfig:\n",
    "    \"\"\"A simple configuration.\"\"\"\n",
    "\n",
    "    batch_size: int\n",
    "\n",
    "\n",
    "class SimpleExperiment(Experiment[SimpleConfig]):\n",
    "    \"\"\"Local Experiment class.\"\"\"\n",
    "\n",
    "\n",
    "def implement_experiment() -> int:\n",
    "    \"\"\"Here, shoul the code for the experiment.\"\"\"\n",
    "    config = SimpleExperiment.get_config()\n",
    "    # linters should sh you type annotations\n",
    "    return config.batch_size\n",
    "\n",
    "\n",
    "my_config = SimpleConfig(32)\n",
    "my_experiment = SimpleExperiment(config=my_config)\n",
    "with my_experiment:\n",
    "    implement_experiment()"
   ]
  }
 ],
 "metadata": {
  "kernelspec": {
   "display_name": ".venv",
   "language": "python",
   "name": "python3"
  },
  "language_info": {
   "codemirror_mode": {
    "name": "ipython",
    "version": 3
   },
   "file_extension": ".py",
   "mimetype": "text/x-python",
   "name": "python",
   "nbconvert_exporter": "python",
   "pygments_lexer": "ipython3",
   "version": "3.11.13"
  }
 },
 "nbformat": 4,
 "nbformat_minor": 5
}

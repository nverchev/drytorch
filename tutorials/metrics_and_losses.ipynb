{
 "cells": [
  {
   "cell_type": "markdown",
   "id": "13bc54e6",
   "metadata": {},
   "source": [
    "# Metrics and Losses\n",
    "\n",
    "DRYTorch helps you standardize and document your experiment's metrics and loss.\n",
    "\n",
    "### Terminology\n",
    "\n",
    "A **metric** describes and assesses the performance of a model given its outputs and provided targets (i.e. the labels in supervised learning). A **loss** is used for optimization and has stricter requirements (e.g., differentiability), but it can also function as a metric. We refer to both as an **objective** and reserve the term 'metric' for objectives not used for parameter optimization.\n",
    "\n"
   ]
  },
  {
   "cell_type": "markdown",
   "id": "c1608e63",
   "metadata": {},
   "source": [
    "## Compatibility with existing libraries\n",
    "DRYTorch does not provide implementations of common losses. Instead, it encourages the use of implementations from other popular libraries by defining protocols that ensure full support to the relative classes.\n",
    "\n",
    "### For Validating and Testing\n",
    "The Objective protocol has been design to be compatible with the Metric classes from [torchmetric](https://lightning.ai/docs/torchmetrics/stable/) and [TorchEval](https://docs.pytorch.org/torcheval/stable/). You can use these metrics' instances directly when constructing a DRYTorch validation or test class.\n",
    "\n",
    "### For Training\n",
    "Some metrics from torchmetrics can also be used as losses. The Loss protocol accepts those metrics assuming they are differentiable. You therefore use it for building a DRYTorch training class."
   ]
  },
  {
   "cell_type": "code",
   "execution_count": null,
   "id": "66f90284",
   "metadata": {},
   "outputs": [
    {
     "data": {
      "text/plain": [
       "True"
      ]
     },
     "execution_count": 1,
     "metadata": {},
     "output_type": "execute_result"
    }
   ],
   "source": [
    "import torch\n",
    "import torchmetrics\n",
    "\n",
    "from torcheval import metrics as eval_metrics\n",
    "\n",
    "from drytorch import protocols as p\n",
    "\n",
    "\n",
    "torch_metric = torchmetrics.MeanSquaredError()\n",
    "eval_metric = eval_metrics.MeanSquaredError()\n",
    "\n",
    "\n",
    "def supported_for_validation(\n",
    "    metric: p.ObjectiveProtocol[torch.Tensor, torch.Tensor],\n",
    ") -> bool:\n",
    "    \"\"\"Test metric follows the Objective protocol.\"\"\"\n",
    "    return isinstance(metric, p.ObjectiveProtocol)\n",
    "\n",
    "\n",
    "supported_for_validation(eval_metric) and supported_for_validation(torch_metric)"
   ]
  },
  {
   "cell_type": "code",
   "execution_count": null,
   "id": "883a9cc2",
   "metadata": {},
   "outputs": [
    {
     "data": {
      "text/plain": [
       "True"
      ]
     },
     "execution_count": 3,
     "metadata": {},
     "output_type": "execute_result"
    }
   ],
   "source": [
    "\n",
    "def supported_for_training(\n",
    "    metric: p.LossProtocol[torch.Tensor, torch.Tensor],\n",
    ") -> bool:\n",
    "    \"\"\"Test metric follows the Loss protocol.\"\"\"\n",
    "    return isinstance(metric, p.LossProtocol)\n",
    "\n",
    "\n",
    "supported_for_training(torch_metric)"
   ]
  },
  {
   "cell_type": "markdown",
   "id": "69b4e5be",
   "metadata": {},
   "source": [
    "## DRYTorch classes\n",
    "DRYTorch objective classes are wrappers around user-defined metric and loss functions. These classes accept all function signatures, as long as they return a tensor from Torch. The class is responsible to call, document and aggregate the values of the functions. Furthermore, they are easily composable.\n",
    "\n",
    "\n",
    "### The Metric and MetricCollection classes\n",
    "The Metric class from DRYTorch is a callable that is generic on the outputs and targets arguments. "
   ]
  }
 ],
 "metadata": {
  "kernelspec": {
   "display_name": ".venv",
   "language": "python",
   "name": "python3"
  },
  "language_info": {
   "codemirror_mode": {
    "name": "ipython",
    "version": 3
   },
   "file_extension": ".py",
   "mimetype": "text/x-python",
   "name": "python",
   "nbconvert_exporter": "python",
   "pygments_lexer": "ipython3",
   "version": "3.11.13"
  }
 },
 "nbformat": 4,
 "nbformat_minor": 5
}

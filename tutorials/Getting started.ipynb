{
 "cells": [
  {
   "cell_type": "markdown",
   "id": "7a08cb21",
   "metadata": {},
   "source": [
    "# Getting started"
   ]
  },
  {
   "cell_type": "code",
   "execution_count": 1,
   "id": "87e06d27-d1c6-4243-afc7-9a150bc6df36",
   "metadata": {},
   "outputs": [],
   "source": [
    "from drytorch import Experiment"
   ]
  },
  {
   "cell_type": "code",
   "execution_count": null,
   "id": "41e3d78e",
   "metadata": {},
   "outputs": [],
   "source": [
    "my_experiment = Experiment()"
   ]
  }
 ],
 "metadata": {
  "kernelspec": {
   "display_name": ".venv",
   "language": "python",
   "name": "python3"
  },
  "language_info": {
   "codemirror_mode": {
    "name": "ipython",
    "version": 3
   },
   "file_extension": ".py",
   "mimetype": "text/x-python",
   "name": "python",
   "nbconvert_exporter": "python",
   "pygments_lexer": "ipython3",
   "version": "3.11.13"
  }
 },
 "nbformat": 4,
 "nbformat_minor": 5
}
